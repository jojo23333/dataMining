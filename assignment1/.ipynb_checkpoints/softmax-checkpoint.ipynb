{
 "cells": [
  {
   "cell_type": "markdown",
   "metadata": {},
   "source": [
    "# Softmax exercise\n",
    "\n",
    "*Complete and hand in this completed worksheet (including its outputs and any supporting code outside of the worksheet) with your assignment submission. For more details see the [assignments page](http://vision.stanford.edu/teaching/cs231n/assignments.html) on the course website.*\n",
    "\n",
    "This exercise is analogous to the SVM exercise. You will:\n",
    "\n",
    "- implement a fully-vectorized **loss function** for the Softmax classifier\n",
    "- implement the fully-vectorized expression for its **analytic gradient**\n",
    "- **check your implementation** with numerical gradient\n",
    "- use a validation set to **tune the learning rate and regularization** strength\n",
    "- **optimize** the loss function with **SGD**\n",
    "- **visualize** the final learned weights\n"
   ]
  },
  {
   "cell_type": "code",
   "execution_count": 1,
   "metadata": {
    "collapsed": false
   },
   "outputs": [],
   "source": [
    "import random\n",
    "import numpy as np\n",
    "from cs231n.data_utils import load_CIFAR10\n",
    "import matplotlib.pyplot as plt\n",
    "\n",
    "from __future__ import print_function\n",
    "\n",
    "%matplotlib inline\n",
    "plt.rcParams['figure.figsize'] = (10.0, 8.0) # set default size of plots\n",
    "plt.rcParams['image.interpolation'] = 'nearest'\n",
    "plt.rcParams['image.cmap'] = 'gray'\n",
    "\n",
    "# for auto-reloading extenrnal modules\n",
    "# see http://stackoverflow.com/questions/1907993/autoreload-of-modules-in-ipython\n",
    "%load_ext autoreload\n",
    "%autoreload 2"
   ]
  },
  {
   "cell_type": "code",
   "execution_count": 2,
   "metadata": {
    "collapsed": false
   },
   "outputs": [
    {
     "name": "stdout",
     "output_type": "stream",
     "text": [
      "Train data shape:  (49000, 3073)\n",
      "Train labels shape:  (49000,)\n",
      "Validation data shape:  (1000, 3073)\n",
      "Validation labels shape:  (1000,)\n",
      "Test data shape:  (1000, 3073)\n",
      "Test labels shape:  (1000,)\n",
      "dev data shape:  (500, 3073)\n",
      "dev labels shape:  (500,)\n"
     ]
    }
   ],
   "source": [
    "def get_CIFAR10_data(num_training=49000, num_validation=1000, num_test=1000, num_dev=500):\n",
    "    \"\"\"\n",
    "    Load the CIFAR-10 dataset from disk and perform preprocessing to prepare\n",
    "    it for the linear classifier. These are the same steps as we used for the\n",
    "    SVM, but condensed to a single function.  \n",
    "    \"\"\"\n",
    "    # Load the raw CIFAR-10 data\n",
    "    cifar10_dir = 'cs231n/datasets/cifar-10-batches-py'\n",
    "    X_train, y_train, X_test, y_test = load_CIFAR10(cifar10_dir)\n",
    "    \n",
    "    # subsample the data\n",
    "    mask = list(range(num_training, num_training + num_validation))\n",
    "    X_val = X_train[mask]\n",
    "    y_val = y_train[mask]\n",
    "    mask = list(range(num_training))\n",
    "    X_train = X_train[mask]\n",
    "    y_train = y_train[mask]\n",
    "    mask = list(range(num_test))\n",
    "    X_test = X_test[mask]\n",
    "    y_test = y_test[mask]\n",
    "    mask = np.random.choice(num_training, num_dev, replace=False)\n",
    "    X_dev = X_train[mask]\n",
    "    y_dev = y_train[mask]\n",
    "    \n",
    "    # Preprocessing: reshape the image data into rows\n",
    "    X_train = np.reshape(X_train, (X_train.shape[0], -1))\n",
    "    X_val = np.reshape(X_val, (X_val.shape[0], -1))\n",
    "    X_test = np.reshape(X_test, (X_test.shape[0], -1))\n",
    "    X_dev = np.reshape(X_dev, (X_dev.shape[0], -1))\n",
    "    \n",
    "    # Normalize the data: subtract the mean image\n",
    "    mean_image = np.mean(X_train, axis = 0)\n",
    "    X_train -= mean_image\n",
    "    X_val -= mean_image\n",
    "    X_test -= mean_image\n",
    "    X_dev -= mean_image\n",
    "    \n",
    "    # add bias dimension and transform into columns\n",
    "    X_train = np.hstack([X_train, np.ones((X_train.shape[0], 1))])\n",
    "    X_val = np.hstack([X_val, np.ones((X_val.shape[0], 1))])\n",
    "    X_test = np.hstack([X_test, np.ones((X_test.shape[0], 1))])\n",
    "    X_dev = np.hstack([X_dev, np.ones((X_dev.shape[0], 1))])\n",
    "    \n",
    "    return X_train, y_train, X_val, y_val, X_test, y_test, X_dev, y_dev\n",
    "\n",
    "\n",
    "# Invoke the above function to get our data.\n",
    "X_train, y_train, X_val, y_val, X_test, y_test, X_dev, y_dev = get_CIFAR10_data()\n",
    "print('Train data shape: ', X_train.shape)\n",
    "print('Train labels shape: ', y_train.shape)\n",
    "print('Validation data shape: ', X_val.shape)\n",
    "print('Validation labels shape: ', y_val.shape)\n",
    "print('Test data shape: ', X_test.shape)\n",
    "print('Test labels shape: ', y_test.shape)\n",
    "print('dev data shape: ', X_dev.shape)\n",
    "print('dev labels shape: ', y_dev.shape)"
   ]
  },
  {
   "cell_type": "markdown",
   "metadata": {},
   "source": [
    "## Softmax Classifier\n",
    "\n",
    "Your code for this section will all be written inside **cs231n/classifiers/softmax.py**. \n"
   ]
  },
  {
   "cell_type": "code",
   "execution_count": 3,
   "metadata": {
    "collapsed": false
   },
   "outputs": [
    {
     "name": "stdout",
     "output_type": "stream",
     "text": [
      "loss: 2.372343\n",
      "sanity check: 2.302585\n"
     ]
    }
   ],
   "source": [
    "# First implement the naive softmax loss function with nested loops.\n",
    "# Open the file cs231n/classifiers/softmax.py and implement the\n",
    "# softmax_loss_naive function.\n",
    "\n",
    "from cs231n.classifiers.softmax import softmax_loss_naive\n",
    "import time\n",
    "\n",
    "# Generate a random softmax weight matrix and use it to compute the loss.\n",
    "W = np.random.randn(3073, 10) * 0.0001\n",
    "loss, grad = softmax_loss_naive(W, X_dev, y_dev, 0.0)\n",
    "\n",
    "# As a rough sanity check, our loss should be something close to -log(0.1).\n",
    "print('loss: %f' % loss)\n",
    "print('sanity check: %f' % (-np.log(0.1)))"
   ]
  },
  {
   "cell_type": "markdown",
   "metadata": {},
   "source": [
    "## Inline Question 1:\n",
    "Why do we expect our loss to be close to -log(0.1)? Explain briefly.**\n",
    "\n",
    "**Your answer:** *Beacause we have 10 classes and initial output have a average probability of 1/10*\n"
   ]
  },
  {
   "cell_type": "code",
   "execution_count": 4,
   "metadata": {
    "collapsed": false
   },
   "outputs": [
    {
     "name": "stdout",
     "output_type": "stream",
     "text": [
      "numerical: 1.144452 analytic: 1.144451, relative error: 7.794004e-08\n",
      "numerical: 1.853482 analytic: 1.853482, relative error: 2.795507e-08\n",
      "numerical: 2.277318 analytic: 2.277318, relative error: 5.778717e-08\n",
      "numerical: 1.144780 analytic: 1.144780, relative error: 1.123815e-08\n",
      "numerical: 0.040098 analytic: 0.040098, relative error: 2.272764e-06\n",
      "numerical: 2.213202 analytic: 2.213202, relative error: 5.539843e-09\n",
      "numerical: 2.576974 analytic: 2.576974, relative error: 3.131276e-08\n",
      "numerical: -2.033397 analytic: -2.033397, relative error: 1.831888e-08\n",
      "numerical: 0.706502 analytic: 0.706502, relative error: 3.307368e-08\n",
      "numerical: 2.909079 analytic: 2.909079, relative error: 1.234770e-08\n",
      "numerical: -3.906601 analytic: -3.906601, relative error: 1.637790e-08\n",
      "numerical: -1.081346 analytic: -1.081347, relative error: 2.693326e-08\n",
      "numerical: -1.922983 analytic: -1.922983, relative error: 9.024468e-09\n",
      "numerical: -0.777069 analytic: -0.777069, relative error: 7.501491e-09\n",
      "numerical: -0.048432 analytic: -0.048432, relative error: 1.450716e-06\n",
      "numerical: 1.852184 analytic: 1.852184, relative error: 2.285544e-08\n",
      "numerical: -0.230443 analytic: -0.230443, relative error: 7.086379e-08\n",
      "numerical: -0.652334 analytic: -0.652334, relative error: 4.892978e-08\n",
      "numerical: 1.249567 analytic: 1.249567, relative error: 4.797882e-09\n",
      "numerical: 0.108006 analytic: 0.108006, relative error: 2.316062e-08\n"
     ]
    }
   ],
   "source": [
    "# Complete the implementation of softmax_loss_naive and implement a (naive)\n",
    "# version of the gradient that uses nested loops.\n",
    "loss, grad = softmax_loss_naive(W, X_dev, y_dev, 0.0)\n",
    "\n",
    "# As we did for the SVM, use numeric gradient checking as a debugging tool.\n",
    "# The numeric gradient should be close to the analytic gradient.\n",
    "from cs231n.gradient_check import grad_check_sparse\n",
    "f = lambda w: softmax_loss_naive(w, X_dev, y_dev, 0.0)[0]\n",
    "grad_numerical = grad_check_sparse(f, W, grad, 10)\n",
    "\n",
    "# similar to SVM case, do another gradient check with regularization\n",
    "loss, grad = softmax_loss_naive(W, X_dev, y_dev, 5e1)\n",
    "f = lambda w: softmax_loss_naive(w, X_dev, y_dev, 5e1)[0]\n",
    "grad_numerical = grad_check_sparse(f, W, grad, 10)"
   ]
  },
  {
   "cell_type": "code",
   "execution_count": 5,
   "metadata": {
    "collapsed": false
   },
   "outputs": [
    {
     "name": "stdout",
     "output_type": "stream",
     "text": [
      "naive loss: 2.372343e+00 computed in 0.157567s\n",
      "vectorized loss: 2.372343e+00 computed in 0.065730s\n",
      "Loss difference: 0.000000\n",
      "Gradient difference: 0.000000\n"
     ]
    }
   ],
   "source": [
    "# Now that we have a naive implementation of the softmax loss function and its gradient,\n",
    "# implement a vectorized version in softmax_loss_vectorized.\n",
    "# The two versions should compute the same results, but the vectorized version should be\n",
    "# much faster.\n",
    "tic = time.time()\n",
    "loss_naive, grad_naive = softmax_loss_naive(W, X_dev, y_dev, 0.000005)\n",
    "toc = time.time()\n",
    "print('naive loss: %e computed in %fs' % (loss_naive, toc - tic))\n",
    "\n",
    "from cs231n.classifiers.softmax import softmax_loss_vectorized\n",
    "tic = time.time()\n",
    "loss_vectorized, grad_vectorized = softmax_loss_vectorized(W, X_dev, y_dev, 0.000005)\n",
    "toc = time.time()\n",
    "print('vectorized loss: %e computed in %fs' % (loss_vectorized, toc - tic))\n",
    "\n",
    "# As we did for the SVM, we use the Frobenius norm to compare the two versions\n",
    "# of the gradient.\n",
    "grad_difference = np.linalg.norm(grad_naive - grad_vectorized, ord='fro')\n",
    "print('Loss difference: %f' % np.abs(loss_naive - loss_vectorized))\n",
    "print('Gradient difference: %f' % grad_difference)"
   ]
  },
  {
   "cell_type": "code",
   "execution_count": 6,
   "metadata": {
    "collapsed": false
   },
   "outputs": [
    {
     "name": "stdout",
     "output_type": "stream",
     "text": [
      "iteration 0 / 1500: loss 388.237113\n",
      "iteration 100 / 1500: loss 234.392788\n",
      "iteration 200 / 1500: loss 142.439860\n",
      "iteration 300 / 1500: loss 87.055357\n",
      "iteration 400 / 1500: loss 53.419019\n",
      "iteration 500 / 1500: loss 33.164816\n",
      "iteration 600 / 1500: loss 20.823589\n",
      "iteration 700 / 1500: loss 13.432857\n",
      "iteration 800 / 1500: loss 8.892600\n",
      "iteration 900 / 1500: loss 6.201059\n",
      "iteration 1000 / 1500: loss 4.591817\n",
      "iteration 1100 / 1500: loss 3.540953\n",
      "iteration 1200 / 1500: loss 2.934064\n",
      "iteration 1300 / 1500: loss 2.573893\n",
      "iteration 1400 / 1500: loss 2.342154\n",
      "That took 34.794154s\n"
     ]
    }
   ],
   "source": [
    "from cs231n.classifiers import Softmax\n",
    "import time\n",
    "\n",
    "softmax = Softmax()\n",
    "tic = time.time()\n",
    "loss_hist = softmax.train(X_train, y_train, learning_rate=1e-7, reg=2.5e4,\n",
    "                      num_iters=1500, verbose=True)\n",
    "toc = time.time()\n",
    "print('That took %fs' % (toc - tic))"
   ]
  },
  {
   "cell_type": "code",
   "execution_count": 7,
   "metadata": {
    "collapsed": false
   },
   "outputs": [
    {
     "data": {
      "image/png": "[encoded data removed]",
      "text/plain": [
       "<matplotlib.figure.Figure at 0x7fb8c9f7d518>"
      ]
     },
     "metadata": {},
     "output_type": "display_data"
    }
   ],
   "source": [
    "plt.plot(loss_hist)\n",
    "plt.xlabel('Iteration number')\n",
    "plt.ylabel('Loss value')\n",
    "plt.title('Softmax')\n",
    "plt.show()"
   ]
  },
  {
   "cell_type": "code",
   "execution_count": 8,
   "metadata": {
    "collapsed": false
   },
   "outputs": [
    {
     "name": "stdout",
     "output_type": "stream",
     "text": [
      "(49000, 3073)\n",
      "(49000, 3073)\n",
      "(49000, 3073)\n",
      "(49000, 3073)\n",
      "(49000, 3073)\n",
      "(49000, 3073)\n",
      "(49000, 3073)\n",
      "(49000, 3073)\n",
      "(49000, 3073)\n",
      "(49000, 3073)\n",
      "(49000, 3073)\n",
      "(49000, 3073)\n",
      "(49000, 3073)\n",
      "(49000, 3073)\n",
      "(49000, 3073)\n",
      "(49000, 3073)\n",
      "(49000, 3073)\n",
      "(49000, 3073)\n",
      "(49000, 3073)\n",
      "(49000, 3073)\n",
      "(49000, 3073)\n",
      "(49000, 3073)\n",
      "(49000, 3073)\n",
      "(49000, 3073)\n",
      "(49000, 3073)\n",
      "(49000, 3073)\n",
      "(49000, 3073)\n",
      "(49000, 3073)\n",
      "(49000, 3073)\n",
      "(49000, 3073)\n",
      "(49000, 3073)\n",
      "(49000, 3073)\n",
      "(49000, 3073)\n",
      "(49000, 3073)\n",
      "(49000, 3073)\n",
      "(49000, 3073)\n",
      "(49000, 3073)\n",
      "(49000, 3073)\n",
      "(49000, 3073)\n",
      "(49000, 3073)\n",
      "(49000, 3073)\n",
      "(49000, 3073)\n",
      "(49000, 3073)\n",
      "(49000, 3073)\n",
      "(49000, 3073)\n",
      "(49000, 3073)\n",
      "(49000, 3073)\n",
      "(49000, 3073)\n",
      "(49000, 3073)\n",
      "(49000, 3073)\n",
      "(49000, 3073)\n",
      "(49000, 3073)\n",
      "(49000, 3073)\n",
      "(49000, 3073)\n",
      "(49000, 3073)\n",
      "(49000, 3073)\n",
      "(49000, 3073)\n",
      "(49000, 3073)\n",
      "(49000, 3073)\n",
      "(49000, 3073)\n",
      "(49000, 3073)\n",
      "(49000, 3073)\n",
      "(49000, 3073)\n",
      "(49000, 3073)\n",
      "(49000, 3073)\n",
      "(49000, 3073)\n",
      "(49000, 3073)\n",
      "(49000, 3073)\n",
      "(49000, 3073)\n",
      "(49000, 3073)\n",
      "(49000, 3073)\n",
      "(49000, 3073)\n",
      "(49000, 3073)\n",
      "(49000, 3073)\n",
      "(49000, 3073)\n",
      "(49000, 3073)\n",
      "(49000, 3073)\n",
      "(49000, 3073)\n",
      "(49000, 3073)\n",
      "(49000, 3073)\n",
      "(49000, 3073)\n",
      "(49000, 3073)\n",
      "(49000, 3073)\n",
      "(49000, 3073)\n",
      "(49000, 3073)\n",
      "(49000, 3073)\n",
      "(49000, 3073)\n",
      "(49000, 3073)\n",
      "(49000, 3073)\n",
      "(49000, 3073)\n",
      "(49000, 3073)\n",
      "(49000, 3073)\n",
      "(49000, 3073)\n",
      "(49000, 3073)\n",
      "(49000, 3073)\n",
      "(49000, 3073)\n",
      "(49000, 3073)\n",
      "(49000, 3073)\n",
      "(49000, 3073)\n",
      "(49000, 3073)\n",
      "lr 1.000000e-10 reg 1.000000e-03 train accuracy: 0.094388 val accuracy: 0.108000\n",
      "lr 1.000000e-10 reg 1.000000e-02 train accuracy: 0.093204 val accuracy: 0.085000\n",
      "lr 1.000000e-10 reg 1.000000e-01 train accuracy: 0.064714 val accuracy: 0.064000\n",
      "lr 1.000000e-10 reg 1.000000e+00 train accuracy: 0.118918 val accuracy: 0.104000\n",
      "lr 1.000000e-10 reg 1.000000e+01 train accuracy: 0.065490 val accuracy: 0.069000\n",
      "lr 1.000000e-10 reg 1.000000e+02 train accuracy: 0.077388 val accuracy: 0.064000\n",
      "lr 1.000000e-10 reg 1.000000e+03 train accuracy: 0.084878 val accuracy: 0.090000\n",
      "lr 1.000000e-10 reg 1.000000e+04 train accuracy: 0.110347 val accuracy: 0.128000\n",
      "lr 1.000000e-10 reg 1.000000e+05 train accuracy: 0.093469 val accuracy: 0.094000\n",
      "lr 1.000000e-10 reg 1.000000e+06 train accuracy: 0.100163 val accuracy: 0.113000\n",
      "lr 1.668101e-08 reg 1.000000e-03 train accuracy: 0.133000 val accuracy: 0.115000\n",
      "lr 1.668101e-08 reg 1.000000e-02 train accuracy: 0.108592 val accuracy: 0.110000\n",
      "lr 1.668101e-08 reg 1.000000e-01 train accuracy: 0.112490 val accuracy: 0.102000\n",
      "lr 1.668101e-08 reg 1.000000e+00 train accuracy: 0.100102 val accuracy: 0.101000\n",
      "lr 1.668101e-08 reg 1.000000e+01 train accuracy: 0.104714 val accuracy: 0.128000\n",
      "lr 1.668101e-08 reg 1.000000e+02 train accuracy: 0.080469 val accuracy: 0.078000\n",
      "lr 1.668101e-08 reg 1.000000e+03 train accuracy: 0.100224 val accuracy: 0.097000\n",
      "lr 1.668101e-08 reg 1.000000e+04 train accuracy: 0.079000 val accuracy: 0.068000\n",
      "lr 1.668101e-08 reg 1.000000e+05 train accuracy: 0.129694 val accuracy: 0.131000\n",
      "lr 1.668101e-08 reg 1.000000e+06 train accuracy: 0.124735 val accuracy: 0.126000\n",
      "lr 2.782559e-06 reg 1.000000e-03 train accuracy: 0.262918 val accuracy: 0.273000\n",
      "lr 2.782559e-06 reg 1.000000e-02 train accuracy: 0.269531 val accuracy: 0.270000\n",
      "lr 2.782559e-06 reg 1.000000e-01 train accuracy: 0.271653 val accuracy: 0.289000\n",
      "lr 2.782559e-06 reg 1.000000e+00 train accuracy: 0.272694 val accuracy: 0.280000\n",
      "lr 2.782559e-06 reg 1.000000e+01 train accuracy: 0.274265 val accuracy: 0.262000\n",
      "lr 2.782559e-06 reg 1.000000e+02 train accuracy: 0.268306 val accuracy: 0.257000\n",
      "lr 2.782559e-06 reg 1.000000e+03 train accuracy: 0.281633 val accuracy: 0.267000\n",
      "lr 2.782559e-06 reg 1.000000e+04 train accuracy: 0.348959 val accuracy: 0.331000\n",
      "lr 2.782559e-06 reg 1.000000e+05 train accuracy: 0.244408 val accuracy: 0.279000\n",
      "lr 2.782559e-06 reg 1.000000e+06 train accuracy: 0.100265 val accuracy: 0.087000\n",
      "lr 4.641589e-04 reg 1.000000e-03 train accuracy: 0.100265 val accuracy: 0.087000\n",
      "lr 4.641589e-04 reg 1.000000e-02 train accuracy: 0.100265 val accuracy: 0.087000\n",
      "lr 4.641589e-04 reg 1.000000e-01 train accuracy: 0.100265 val accuracy: 0.087000\n",
      "lr 4.641589e-04 reg 1.000000e+00 train accuracy: 0.100265 val accuracy: 0.087000\n",
      "lr 4.641589e-04 reg 1.000000e+01 train accuracy: 0.100265 val accuracy: 0.087000\n",
      "lr 4.641589e-04 reg 1.000000e+02 train accuracy: 0.100265 val accuracy: 0.087000\n",
      "lr 4.641589e-04 reg 1.000000e+03 train accuracy: 0.100265 val accuracy: 0.087000\n",
      "lr 4.641589e-04 reg 1.000000e+04 train accuracy: 0.100265 val accuracy: 0.087000\n",
      "lr 4.641589e-04 reg 1.000000e+05 train accuracy: 0.100265 val accuracy: 0.087000\n",
      "lr 4.641589e-04 reg 1.000000e+06 train accuracy: 0.100265 val accuracy: 0.087000\n",
      "lr 7.742637e-02 reg 1.000000e-03 train accuracy: 0.100265 val accuracy: 0.087000\n",
      "lr 7.742637e-02 reg 1.000000e-02 train accuracy: 0.100265 val accuracy: 0.087000\n",
      "lr 7.742637e-02 reg 1.000000e-01 train accuracy: 0.100265 val accuracy: 0.087000\n",
      "lr 7.742637e-02 reg 1.000000e+00 train accuracy: 0.100265 val accuracy: 0.087000\n",
      "lr 7.742637e-02 reg 1.000000e+01 train accuracy: 0.100265 val accuracy: 0.087000\n",
      "lr 7.742637e-02 reg 1.000000e+02 train accuracy: 0.100265 val accuracy: 0.087000\n",
      "lr 7.742637e-02 reg 1.000000e+03 train accuracy: 0.100265 val accuracy: 0.087000\n",
      "lr 7.742637e-02 reg 1.000000e+04 train accuracy: 0.100265 val accuracy: 0.087000\n",
      "lr 7.742637e-02 reg 1.000000e+05 train accuracy: 0.100265 val accuracy: 0.087000\n",
      "lr 7.742637e-02 reg 1.000000e+06 train accuracy: 0.100265 val accuracy: 0.087000\n",
      "lr 1.291550e+01 reg 1.000000e-03 train accuracy: 0.100265 val accuracy: 0.087000\n",
      "lr 1.291550e+01 reg 1.000000e-02 train accuracy: 0.100265 val accuracy: 0.087000\n",
      "lr 1.291550e+01 reg 1.000000e-01 train accuracy: 0.100265 val accuracy: 0.087000\n",
      "lr 1.291550e+01 reg 1.000000e+00 train accuracy: 0.100265 val accuracy: 0.087000\n",
      "lr 1.291550e+01 reg 1.000000e+01 train accuracy: 0.100265 val accuracy: 0.087000\n",
      "lr 1.291550e+01 reg 1.000000e+02 train accuracy: 0.100265 val accuracy: 0.087000\n",
      "lr 1.291550e+01 reg 1.000000e+03 train accuracy: 0.100265 val accuracy: 0.087000\n",
      "lr 1.291550e+01 reg 1.000000e+04 train accuracy: 0.100265 val accuracy: 0.087000\n",
      "lr 1.291550e+01 reg 1.000000e+05 train accuracy: 0.100265 val accuracy: 0.087000\n",
      "lr 1.291550e+01 reg 1.000000e+06 train accuracy: 0.100265 val accuracy: 0.087000\n",
      "lr 2.154435e+03 reg 1.000000e-03 train accuracy: 0.100265 val accuracy: 0.087000\n",
      "lr 2.154435e+03 reg 1.000000e-02 train accuracy: 0.100265 val accuracy: 0.087000\n",
      "lr 2.154435e+03 reg 1.000000e-01 train accuracy: 0.100265 val accuracy: 0.087000\n",
      "lr 2.154435e+03 reg 1.000000e+00 train accuracy: 0.100265 val accuracy: 0.087000\n",
      "lr 2.154435e+03 reg 1.000000e+01 train accuracy: 0.100265 val accuracy: 0.087000\n",
      "lr 2.154435e+03 reg 1.000000e+02 train accuracy: 0.100265 val accuracy: 0.087000\n",
      "lr 2.154435e+03 reg 1.000000e+03 train accuracy: 0.100265 val accuracy: 0.087000\n",
      "lr 2.154435e+03 reg 1.000000e+04 train accuracy: 0.100265 val accuracy: 0.087000\n",
      "lr 2.154435e+03 reg 1.000000e+05 train accuracy: 0.100265 val accuracy: 0.087000\n",
      "lr 2.154435e+03 reg 1.000000e+06 train accuracy: 0.100265 val accuracy: 0.087000\n",
      "lr 3.593814e+05 reg 1.000000e-03 train accuracy: 0.100265 val accuracy: 0.087000\n",
      "lr 3.593814e+05 reg 1.000000e-02 train accuracy: 0.100265 val accuracy: 0.087000\n",
      "lr 3.593814e+05 reg 1.000000e-01 train accuracy: 0.100265 val accuracy: 0.087000\n",
      "lr 3.593814e+05 reg 1.000000e+00 train accuracy: 0.100265 val accuracy: 0.087000\n",
      "lr 3.593814e+05 reg 1.000000e+01 train accuracy: 0.100265 val accuracy: 0.087000\n",
      "lr 3.593814e+05 reg 1.000000e+02 train accuracy: 0.100265 val accuracy: 0.087000\n",
      "lr 3.593814e+05 reg 1.000000e+03 train accuracy: 0.100265 val accuracy: 0.087000\n",
      "lr 3.593814e+05 reg 1.000000e+04 train accuracy: 0.100265 val accuracy: 0.087000\n",
      "lr 3.593814e+05 reg 1.000000e+05 train accuracy: 0.100265 val accuracy: 0.087000\n",
      "lr 3.593814e+05 reg 1.000000e+06 train accuracy: 0.100265 val accuracy: 0.087000\n",
      "lr 5.994843e+07 reg 1.000000e-03 train accuracy: 0.100265 val accuracy: 0.087000\n",
      "lr 5.994843e+07 reg 1.000000e-02 train accuracy: 0.100265 val accuracy: 0.087000\n",
      "lr 5.994843e+07 reg 1.000000e-01 train accuracy: 0.100265 val accuracy: 0.087000\n",
      "lr 5.994843e+07 reg 1.000000e+00 train accuracy: 0.100265 val accuracy: 0.087000\n",
      "lr 5.994843e+07 reg 1.000000e+01 train accuracy: 0.100265 val accuracy: 0.087000\n",
      "lr 5.994843e+07 reg 1.000000e+02 train accuracy: 0.100265 val accuracy: 0.087000\n",
      "lr 5.994843e+07 reg 1.000000e+03 train accuracy: 0.100265 val accuracy: 0.087000\n",
      "lr 5.994843e+07 reg 1.000000e+04 train accuracy: 0.100265 val accuracy: 0.087000\n",
      "lr 5.994843e+07 reg 1.000000e+05 train accuracy: 0.100265 val accuracy: 0.087000\n",
      "lr 5.994843e+07 reg 1.000000e+06 train accuracy: 0.100265 val accuracy: 0.087000\n",
      "lr 1.000000e+10 reg 1.000000e-03 train accuracy: 0.100265 val accuracy: 0.087000\n",
      "lr 1.000000e+10 reg 1.000000e-02 train accuracy: 0.100265 val accuracy: 0.087000\n",
      "lr 1.000000e+10 reg 1.000000e-01 train accuracy: 0.100265 val accuracy: 0.087000\n",
      "lr 1.000000e+10 reg 1.000000e+00 train accuracy: 0.100265 val accuracy: 0.087000\n",
      "lr 1.000000e+10 reg 1.000000e+01 train accuracy: 0.100265 val accuracy: 0.087000\n",
      "lr 1.000000e+10 reg 1.000000e+02 train accuracy: 0.100265 val accuracy: 0.087000\n",
      "lr 1.000000e+10 reg 1.000000e+03 train accuracy: 0.100265 val accuracy: 0.087000\n",
      "lr 1.000000e+10 reg 1.000000e+04 train accuracy: 0.100265 val accuracy: 0.087000\n",
      "lr 1.000000e+10 reg 1.000000e+05 train accuracy: 0.100265 val accuracy: 0.087000\n",
      "lr 1.000000e+10 reg 1.000000e+06 train accuracy: 0.100265 val accuracy: 0.087000\n",
      "best validation accuracy achieved during cross-validation: 0.331000\n"
     ]
    },
    {
     "name": "stderr",
     "output_type": "stream",
     "text": [
      "/home/jojo/repo/CS231n/assignment1/cs231n/classifiers/softmax.py:82: RuntimeWarning: divide by zero encountered in log\n",
      "  correct_logprobs = -np.log(probs[range(num_examples), y])\n",
      "/home/jojo/repo/CS231n/assignment1/cs231n/classifiers/softmax.py:78: RuntimeWarning: overflow encountered in exp\n",
      "  exp_scores = np.exp(scores)\n",
      "/home/jojo/repo/CS231n/assignment1/cs231n/classifiers/softmax.py:79: RuntimeWarning: invalid value encountered in true_divide\n",
      "  probs = exp_scores / np.sum(exp_scores, axis=1, keepdims=True)\n"
     ]
    }
   ],
   "source": [
    "# Use the validation set to tune hyperparameters (regularization strength and\n",
    "# learning rate). You should experiment with different ranges for the learning\n",
    "# rates and regularization strengths; if you are careful you should be able to\n",
    "# get a classification accuracy of over 0.35 on the validation set.\n",
    "from cs231n.classifiers import Softmax\n",
    "results = {}\n",
    "best_val = -1\n",
    "best_softmax = None\n",
    "# learning_rates = [1e-7, 5e-7]\n",
    "# regularization_strengths = [2.5e4, 5e4]\n",
    "learning_rates = np.logspace(-10, 10, 10) \n",
    "regularization_strengths = np.logspace(-3, 6, 10) \n",
    "\n",
    "\n",
    "# Use the validation set to set the learning rate and regularization strength. \n",
    "# This should be identical to the validation that you did for the SVM; save    \n",
    "# the best trained softmax classifer in best_softmax.                          \n",
    "iters = 100\n",
    "for lr in learning_rates:\n",
    "    for rs in regularization_strengths:\n",
    "        softmax = Softmax()\n",
    "        print(X_train.shape)\n",
    "        softmax.train(X_train, y_train, learning_rate=lr, reg=rs, num_iters=iters)\n",
    "        \n",
    "        y_train_pred = softmax.predict(X_train)\n",
    "        acc_train = np.mean(y_train == y_train_pred)\n",
    "        y_val_pred = softmax.predict(X_val)\n",
    "        acc_val = np.mean(y_val == y_val_pred)\n",
    "        \n",
    "        results[(lr, rs)] = (acc_train, acc_val)\n",
    "        \n",
    "        if best_val < acc_val:\n",
    "            best_val = acc_val\n",
    "            best_softmax = softmax\n",
    "    \n",
    "# Print out results.\n",
    "for lr, reg in sorted(results):\n",
    "    train_accuracy, val_accuracy = results[(lr, reg)]\n",
    "    print('lr %e reg %e train accuracy: %f val accuracy: %f' % (\n",
    "                lr, reg, train_accuracy, val_accuracy))\n",
    "    \n",
    "print('best validation accuracy achieved during cross-validation: %f' % best_val)"
   ]
  },
  {
   "cell_type": "code",
   "execution_count": 9,
   "metadata": {
    "collapsed": false
   },
   "outputs": [
    {
     "name": "stdout",
     "output_type": "stream",
     "text": [
      "softmax on raw pixels final test set accuracy: 0.351000\n"
     ]
    }
   ],
   "source": [
    "# evaluate on test set\n",
    "# Evaluate the best softmax on test set\n",
    "y_test_pred = best_softmax.predict(X_test)\n",
    "test_accuracy = np.mean(y_test == y_test_pred)\n",
    "print('softmax on raw pixels final test set accuracy: %f' % (test_accuracy, ))"
   ]
  },
  {
   "cell_type": "code",
   "execution_count": 10,
   "metadata": {
    "collapsed": false
   },
   "outputs": [
    {
     "data": {
      "image/png": "[encoded data removed]",
      "text/plain": [
       "<matplotlib.figure.Figure at 0x7fb8821719e8>"
      ]
     },
     "metadata": {},
     "output_type": "display_data"
    }
   ],
   "source": [
    "# Visualize the learned weights for each class\n",
    "w = best_softmax.W[:-1,:] # strip out the bias\n",
    "w = w.reshape(32, 32, 3, 10)\n",
    "\n",
    "w_min, w_max = np.min(w), np.max(w)\n",
    "\n",
    "classes = ['plane', 'car', 'bird', 'cat', 'deer', 'dog', 'frog', 'horse', 'ship', 'truck']\n",
    "for i in range(10):\n",
    "    plt.subplot(2, 5, i + 1)\n",
    "    \n",
    "    # Rescale the weights to be between 0 and 255\n",
    "    wimg = 255.0 * (w[:, :, :, i].squeeze() - w_min) / (w_max - w_min)\n",
    "    plt.imshow(wimg.astype('uint8'))\n",
    "    plt.axis('off')\n",
    "    plt.title(classes[i])"
   ]
  },
  {
   "cell_type": "code",
   "execution_count": 14,
   "metadata": {
    "collapsed": false
   },
   "outputs": [
    {
     "data": {
      "text/plain": [
       "(49000, 3073)"
      ]
     },
     "execution_count": 14,
     "metadata": {},
     "output_type": "execute_result"
    }
   ],
   "source": [
    "print(X_train.shape)"
   ]
  },
  {
   "cell_type": "code",
   "execution_count": null,
   "metadata": {
    "collapsed": true
   },
   "outputs": [],
   "source": []
  }
 ],
 "metadata": {
  "kernelspec": {
   "display_name": "Python 3",
   "language": "python",
   "name": "python3"
  },
  "language_info": {
   "codemirror_mode": {
    "name": "ipython",
    "version": 3
   },
   "file_extension": ".py",
   "mimetype": "text/x-python",
   "name": "python",
   "nbconvert_exporter": "python",
   "pygments_lexer": "ipython3",
   "version": "3.6.5"
  }
 },
 "nbformat": 4,
 "nbformat_minor": 0
}
